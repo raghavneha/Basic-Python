{
 "cells": [
  {
   "cell_type": "code",
   "execution_count": 1,
   "id": "ab24b6a4",
   "metadata": {},
   "outputs": [
    {
     "name": "stdout",
     "output_type": "stream",
     "text": [
      "enter the number4\n",
      "4\n"
     ]
    }
   ],
   "source": [
    "#user\n",
    "x = input(\"enter the number\")\n",
    "print(x)"
   ]
  },
  {
   "cell_type": "code",
   "execution_count": 2,
   "id": "79e04560",
   "metadata": {},
   "outputs": [
    {
     "name": "stdout",
     "output_type": "stream",
     "text": [
      "Enter first number5\n",
      "enter second number5\n"
     ]
    },
    {
     "data": {
      "text/plain": [
       "10"
      ]
     },
     "execution_count": 2,
     "metadata": {},
     "output_type": "execute_result"
    }
   ],
   "source": [
    "#WAP to add two number with user input\n",
    "a = int(input(\"Enter first number\"))\n",
    "b = int(input(\"enter second number\"))\n",
    "c = a+b\n",
    "c"
   ]
  },
  {
   "cell_type": "code",
   "execution_count": 3,
   "id": "cd0f3dd8",
   "metadata": {},
   "outputs": [
    {
     "name": "stdout",
     "output_type": "stream",
     "text": [
      "Enter first number5\n",
      "enter second number6\n"
     ]
    },
    {
     "data": {
      "text/plain": [
       "11"
      ]
     },
     "execution_count": 3,
     "metadata": {},
     "output_type": "execute_result"
    }
   ],
   "source": [
    "#WAP to add two number with user input\n",
    "a = input(\"Enter first number\")\n",
    "b = input(\"enter second number\")\n",
    "c = int(a)+int(b)\n",
    "c"
   ]
  },
  {
   "cell_type": "code",
   "execution_count": 5,
   "id": "df96564b",
   "metadata": {},
   "outputs": [
    {
     "name": "stdout",
     "output_type": "stream",
     "text": [
      "enter int number4\n",
      "Enter float number5.0\n"
     ]
    },
    {
     "data": {
      "text/plain": [
       "9.0"
      ]
     },
     "execution_count": 5,
     "metadata": {},
     "output_type": "execute_result"
    }
   ],
   "source": [
    "#wap to add two number of type int and float\n",
    "a = int(input(\"enter int number\"))\n",
    "b = float(input(\"Enter float number\"))\n",
    "c = a+b\n",
    "c        "
   ]
  },
  {
   "cell_type": "code",
   "execution_count": 6,
   "id": "22cea5ea",
   "metadata": {},
   "outputs": [
    {
     "name": "stdout",
     "output_type": "stream",
     "text": [
      "Please enter your age12\n",
      "you can't vote\n"
     ]
    }
   ],
   "source": [
    "#WAP to find out the individual is ready to vote or not\n",
    "age = int(input(\"Please enter your age\"))\n",
    "if age == 18:\n",
    "    print(\"first time voter\")\n",
    "elif age >18:\n",
    "    print(\"you can vote\")\n",
    "else:\n",
    "    print(\"you can't vote\")"
   ]
  },
  {
   "cell_type": "code",
   "execution_count": 11,
   "id": "d229a430",
   "metadata": {},
   "outputs": [
    {
     "name": "stdout",
     "output_type": "stream",
     "text": [
      "enter age 134\n",
      "enter age 221\n",
      "enter age 356\n",
      "age 3 is oldest\n",
      "age 2 is youngest\n"
     ]
    }
   ],
   "source": [
    "#WAP to find older and younger of 3 person\n",
    "age1 = int(input(\"enter age 1\"))\n",
    "age2 = int(input(\"enter age 2\"))\n",
    "age3 = int(input(\"enter age 3\"))\n",
    "if age1> age2 and age1>age3:\n",
    "    print(\"age 1 is oldest\")\n",
    "elif age2>age1 and age2>age3:\n",
    "    print(\"age 2 is oldest\")\n",
    "else:\n",
    "    print(\"age 3 is oldest\")\n",
    "    \n",
    "if(age1<age2 and age1<age3):\n",
    "    print(\"age 1 is youngest\")\n",
    "elif(age2<age1 and age2<age3):\n",
    "    print(\"age 2 is youngest\")\n",
    "else:\n",
    "    print(\"age3 is youngest\")"
   ]
  },
  {
   "cell_type": "code",
   "execution_count": 12,
   "id": "f99a358b",
   "metadata": {},
   "outputs": [
    {
     "name": "stdout",
     "output_type": "stream",
     "text": [
      "Please enter total number of classes40\n",
      "Please enter number of classes attended12\n",
      "Percentage of classes attended:  30.0\n",
      "Student not allowed to sit in exam\n"
     ]
    }
   ],
   "source": [
    "# A student will not allowed to sit in a exam \n",
    "# if his/her\n",
    "# attendance is lower than 75%\n",
    "# Take the following condition from the user\n",
    "# 1.number of classes held\n",
    "# 2. number of classes attend\n",
    "# and print percentage of classes attend.\n",
    "# Is students is allowed to sit in the exam.\n",
    "\n",
    "total_classes = int(input(\"Please enter total number of classes\"))\n",
    "classes_attended = int(input(\"Please enter number of classes attended\"))\n",
    "perc = (classes_attended / total_classes )*100\n",
    "print(\"Percentage of classes attended: \",perc)\n",
    "if perc >= 75:\n",
    "    print(\"Student allowed to sit in exam\")\n",
    "else:\n",
    "    print(\"Student not allowed to sit in exam\")"
   ]
  },
  {
   "cell_type": "code",
   "execution_count": null,
   "id": "c05a10b8",
   "metadata": {},
   "outputs": [],
   "source": []
  }
 ],
 "metadata": {
  "kernelspec": {
   "display_name": "Python 3",
   "language": "python",
   "name": "python3"
  },
  "language_info": {
   "codemirror_mode": {
    "name": "ipython",
    "version": 3
   },
   "file_extension": ".py",
   "mimetype": "text/x-python",
   "name": "python",
   "nbconvert_exporter": "python",
   "pygments_lexer": "ipython3",
   "version": "3.8.8"
  }
 },
 "nbformat": 4,
 "nbformat_minor": 5
}
