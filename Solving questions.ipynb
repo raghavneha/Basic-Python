{
 "cells": [
  {
   "cell_type": "code",
   "execution_count": 3,
   "id": "f89846d1",
   "metadata": {},
   "outputs": [
    {
     "name": "stdout",
     "output_type": "stream",
     "text": [
      "Please enter salary45000\n",
      "Please enter year of service6\n",
      "Net salary is:  47250.0\n"
     ]
    }
   ],
   "source": [
    "# A company decided to give bonus of 5% to employee if his/her year of service is more than 5 years.\n",
    "# Ask user for their salary and year of service and print the net bonus amount.\n",
    "salary = int(input(\"Please enter salary\"))\n",
    "year = int(input(\"Please enter year of service\"))\n",
    "if (year > 5):\n",
    "    bonus = salary * 0.05\n",
    "    totalSalary = salary + bonus\n",
    "    print(\"Net salary is: \",totalSalary)\n",
    "else:\n",
    "    print(\"Employee not applicable for bonus\")"
   ]
  },
  {
   "cell_type": "code",
   "execution_count": 2,
   "id": "9d166a0c",
   "metadata": {},
   "outputs": [
    {
     "name": "stdout",
     "output_type": "stream",
     "text": [
      "Please enter length45\n",
      "Please enter breadth34\n",
      "It is not a square\n"
     ]
    }
   ],
   "source": [
    "#take length and breadth of rectangle from user and check if it is square or not\n",
    "length = float(input(\"Please enter length: \"))\n",
    "breadth = float(input(\"Please enter breadth: \"))\n",
    "if (length == breadth):\n",
    "    print(\"It is square\")\n",
    "else:\n",
    "    print(\"It is not a square\")"
   ]
  },
  {
   "cell_type": "code",
   "execution_count": 4,
   "id": "c6fa9a7f",
   "metadata": {},
   "outputs": [
    {
     "name": "stdout",
     "output_type": "stream",
     "text": [
      "Please enter first number5\n",
      "Please enter second number5\n",
      "5  is greater than  5\n"
     ]
    }
   ],
   "source": [
    "#take 2 int values from the user and find greatest among them\n",
    "num1 = int(input(\"Please enter first number\"))\n",
    "num2 = int(input(\"Please enter second number\"))\n",
    "if num1 > num2:\n",
    "    print(num1,\" is greater than \",num2)\n",
    "elif num2>num1:\n",
    "    print(num2,\" is greater than \",num1)\n",
    "else:\n",
    "    print(num1,\" is equal to \",num2)"
   ]
  },
  {
   "cell_type": "code",
   "execution_count": 9,
   "id": "7ed59a28",
   "metadata": {},
   "outputs": [
    {
     "name": "stdout",
     "output_type": "stream",
     "text": [
      "Please enter quantity11\n",
      "Total Cost:  1000.0\n"
     ]
    }
   ],
   "source": [
    "#A shop will give discount of 10% if the cost of purchased quantity is more than 1000.\n",
    "# Ask user for quantity\n",
    "# Suppose, one unit will cost 100.\n",
    "# Judge and print total cost for user.\n",
    "qty = int(input(\"Please enter quantity\"))\n",
    "cost = qty * 100\n",
    "if(cost>1000):\n",
    "    discount = 1000 * 0.10\n",
    "    totalCost = cost-discount\n",
    "    print(\"Total Cost: \",totalCost)\n",
    "else:\n",
    "    print(\"Total Cost: \",cost)"
   ]
  },
  {
   "cell_type": "code",
   "execution_count": 5,
   "id": "a738571e",
   "metadata": {},
   "outputs": [
    {
     "name": "stdout",
     "output_type": "stream",
     "text": [
      "Please enter marks47\n",
      "Grade: D\n"
     ]
    }
   ],
   "source": [
    "# A school has following rules for grading system:\n",
    "# a. Below 25 - F\n",
    "# b. 25 to 45 - E\n",
    "# c. 45 to 50 - D\n",
    "# d. 50 to 60 - C\n",
    "# e. 60 to 80 - B\n",
    "# f. Above 80 - A\n",
    "# Ask user to enter marks and print the corresponding grade.\n",
    "\n",
    "marks = float(input(\"Please enter marks\"))\n",
    "if(marks >80):\n",
    "    print(\"Grade: A\")\n",
    "elif(marks >60 and marks <=80):\n",
    "    print(\"Grade: B\")\n",
    "elif(marks > 50 and marks<=60):\n",
    "    print(\"Grade: C\")\n",
    "elif(marks > 45 and marks<=50):\n",
    "    print(\"Grade: D\")\n",
    "elif(marks > 25 and marks <= 45):\n",
    "    print(\"Garde: E\")\n",
    "else:\n",
    "    print(\"Grade: F\")"
   ]
  },
  {
   "cell_type": "code",
   "execution_count": 10,
   "id": "2db688df",
   "metadata": {},
   "outputs": [
    {
     "name": "stdout",
     "output_type": "stream",
     "text": [
      "Please enter age 1: 3\n",
      "Please enter age 2: 5\n",
      "Please enter age 3: 4\n",
      "5  is oldest\n",
      "3  is youngest\n"
     ]
    }
   ],
   "source": [
    "# Take input of age of 3 people by user and determine oldest and youngest among them.\n",
    "age1 = int(input(\"Please enter age 1: \"))\n",
    "age2 = int(input(\"Please enter age 2: \"))\n",
    "age3 = int(input(\"Please enter age 3: \"))\n",
    "if(age1>age2 and age1>age3):\n",
    "    print(age1,\" is oldest\")\n",
    "elif(age2>age1 and age2>age3):\n",
    "    print(age2,\" is oldest\")\n",
    "else:\n",
    "    print(age3,\" is oldest\")\n",
    "\n",
    "if(age1<age2 and age1<age3):\n",
    "    print(age1,\" is youngest\")\n",
    "elif(age2<age1 and age2<age3):\n",
    "    print(age2,\" is youngest\")\n",
    "else:\n",
    "    print(age3,\" is youngest\")\n"
   ]
  },
  {
   "cell_type": "code",
   "execution_count": 11,
   "id": "05d3cf7d",
   "metadata": {},
   "outputs": [
    {
     "name": "stdout",
     "output_type": "stream",
     "text": [
      "Please enter total number of classes held60\n",
      "Please enter number of classes attended34\n",
      "Percentage of classes attended:  56.666666666666664\n",
      "Not allowed\n"
     ]
    }
   ],
   "source": [
    "# A student will not be allowed to sit in exam if his/her attendance is less than 75%.\n",
    "# Take following input from user\n",
    "# Number of classes held\n",
    "# Number of classes attended.\n",
    "# And print\n",
    "# percentage of class attended\n",
    "# Is student is allowed to sit in exam or not.\n",
    "\n",
    "classes_held = int(input(\"Please enter total number of classes held\"))\n",
    "classes_attended = int(input(\"Please enter number of classes attended\"))\n",
    "perc = (classes_attended / classes_held) * 100\n",
    "print(\"Percentage of classes attended: \",perc)\n",
    "if(perc < 75):\n",
    "    print(\"Not allowed\")\n",
    "else:\n",
    "    print(\"Allowed\")"
   ]
  },
  {
   "cell_type": "code",
   "execution_count": 12,
   "id": "3c1a0b25",
   "metadata": {},
   "outputs": [
    {
     "name": "stdout",
     "output_type": "stream",
     "text": [
      "Please enter total number of classes held40\n",
      "Please enter number of classes attended10\n",
      "Percentage of classes attended:  25.0\n",
      "Do you have any medican reason? (Y/N): Y\n",
      "Allowed\n"
     ]
    }
   ],
   "source": [
    "#modify question to ask for medical reason\n",
    "classes_held = int(input(\"Please enter total number of classes held\"))\n",
    "classes_attended = int(input(\"Please enter number of classes attended\"))\n",
    "perc = (classes_attended / classes_held) * 100\n",
    "print(\"Percentage of classes attended: \",perc)\n",
    "medical = input(\"Do you have any medican reason? (Y/N): \")\n",
    "if (medical == 'Y'):\n",
    "    print(\"Allowed\")\n",
    "else:\n",
    "    if(perc < 75):\n",
    "        print(\"Not allowed\")\n",
    "    else:\n",
    "        print(\"Allowed\")"
   ]
  },
  {
   "cell_type": "code",
   "execution_count": null,
   "id": "de049166",
   "metadata": {},
   "outputs": [],
   "source": []
  }
 ],
 "metadata": {
  "kernelspec": {
   "display_name": "Python 3",
   "language": "python",
   "name": "python3"
  },
  "language_info": {
   "codemirror_mode": {
    "name": "ipython",
    "version": 3
   },
   "file_extension": ".py",
   "mimetype": "text/x-python",
   "name": "python",
   "nbconvert_exporter": "python",
   "pygments_lexer": "ipython3",
   "version": "3.8.8"
  }
 },
 "nbformat": 4,
 "nbformat_minor": 5
}
